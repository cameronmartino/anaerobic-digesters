{
 "cells": [
  {
   "cell_type": "code",
   "execution_count": 1,
   "metadata": {},
   "outputs": [],
   "source": [
    "%matplotlib inline\n",
    "import qiime2 as q2\n",
    "\n",
    "from biom import Table\n",
    "\n",
    "import pandas as pd, numpy as np, seaborn as sns\n",
    "from skbio.stats.distance import mantel, DistanceMatrix\n",
    "from qiime2.plugins import diversity"
   ]
  },
  {
   "cell_type": "code",
   "execution_count": 2,
   "metadata": {},
   "outputs": [
    {
     "name": "stdout",
     "output_type": "stream",
     "text": [
      "/Users/yoshikivazquezbaeza/Documents/PDF/KnightLaboratory/HastyWater/trimmed-150nts\n"
     ]
    }
   ],
   "source": [
    "cd trimmed-150nts/"
   ]
  },
  {
   "cell_type": "markdown",
   "metadata": {},
   "source": [
    "Do the communities remain the same after the normalization takes place? To check this we can compare a number of distance metrics using Mantel's test."
   ]
  },
  {
   "cell_type": "code",
   "execution_count": 22,
   "metadata": {},
   "outputs": [
    {
     "name": "stderr",
     "output_type": "stream",
     "text": [
      "/Users/yoshikivazquezbaeza/miniconda/envs/qiime2-2018.4/lib/python3.5/site-packages/sklearn/utils/validation.py:475: DataConversionWarning: Data with input dtype int64 was converted to bool by check_pairwise_arrays.\n",
      "  warnings.warn(msg, DataConversionWarning)\n"
     ]
    }
   ],
   "source": [
    "results = []\n",
    "metrics = ['jaccard', 'braycurtis', 'canberra', 'unweighted_unifrac', 'weighted_unifrac']\n",
    "\n",
    "table_normalized = q2.Artifact.load('feature-table.even.33404.qza')\n",
    "table_unnormalized = q2.Artifact.load('feature-table.even.18813.normalized.qza')\n",
    "\n",
    "for metric in metrics:\n",
    "    \n",
    "    if 'unifrac' in metric:\n",
    "        dm_norm, = diversity.methods.beta_phylogenetic_alt(table_normalized, tree, metric)\n",
    "        dm_unorm, = diversity.methods.beta_phylogenetic_alt(table_unnormalized, tree, metric)\n",
    "    else:\n",
    "        dm_norm, = diversity.methods.beta(table_normalized, metric)\n",
    "        dm_unorm, = diversity.methods.beta(table_unnormalized, metric)\n",
    "\n",
    "    results.append(mantel(dm_norm.view(DistanceMatrix), dm_unorm.view(DistanceMatrix)))\n",
    "    \n",
    "summary = pd.DataFrame(columns=['r**2', 'p-value', 'Sample Size per Matrix'], data=results, index=metrics)"
   ]
  },
  {
   "cell_type": "code",
   "execution_count": 24,
   "metadata": {
    "scrolled": true
   },
   "outputs": [
    {
     "data": {
      "text/html": [
       "<div>\n",
       "<style scoped>\n",
       "    .dataframe tbody tr th:only-of-type {\n",
       "        vertical-align: middle;\n",
       "    }\n",
       "\n",
       "    .dataframe tbody tr th {\n",
       "        vertical-align: top;\n",
       "    }\n",
       "\n",
       "    .dataframe thead th {\n",
       "        text-align: right;\n",
       "    }\n",
       "</style>\n",
       "<table border=\"1\" class=\"dataframe\">\n",
       "  <thead>\n",
       "    <tr style=\"text-align: right;\">\n",
       "      <th></th>\n",
       "      <th>r**2</th>\n",
       "      <th>p-value</th>\n",
       "      <th>Sample Size per Matrix</th>\n",
       "    </tr>\n",
       "  </thead>\n",
       "  <tbody>\n",
       "    <tr>\n",
       "      <th>canberra</th>\n",
       "      <td>0.857417</td>\n",
       "      <td>0.001</td>\n",
       "      <td>118</td>\n",
       "    </tr>\n",
       "    <tr>\n",
       "      <th>jaccard</th>\n",
       "      <td>0.970628</td>\n",
       "      <td>0.001</td>\n",
       "      <td>118</td>\n",
       "    </tr>\n",
       "    <tr>\n",
       "      <th>unweighted_unifrac</th>\n",
       "      <td>0.977602</td>\n",
       "      <td>0.001</td>\n",
       "      <td>118</td>\n",
       "    </tr>\n",
       "    <tr>\n",
       "      <th>braycurtis</th>\n",
       "      <td>0.985944</td>\n",
       "      <td>0.001</td>\n",
       "      <td>118</td>\n",
       "    </tr>\n",
       "    <tr>\n",
       "      <th>weighted_unifrac</th>\n",
       "      <td>0.992905</td>\n",
       "      <td>0.001</td>\n",
       "      <td>118</td>\n",
       "    </tr>\n",
       "  </tbody>\n",
       "</table>\n",
       "</div>"
      ],
      "text/plain": [
       "                        r**2  p-value  Sample Size per Matrix\n",
       "canberra            0.857417    0.001                     118\n",
       "jaccard             0.970628    0.001                     118\n",
       "unweighted_unifrac  0.977602    0.001                     118\n",
       "braycurtis          0.985944    0.001                     118\n",
       "weighted_unifrac    0.992905    0.001                     118"
      ]
     },
     "execution_count": 24,
     "metadata": {},
     "output_type": "execute_result"
    }
   ],
   "source": [
    "summary.sort_values(by='r**2')"
   ]
  },
  {
   "cell_type": "markdown",
   "metadata": {},
   "source": [
    "For the most part the distances are very correlated and the tables don't differ much between them, since most metrics treat the data as proportions or on a qualitative fashion. Of importance, the Canberra distance differ's the most between tables."
   ]
  },
  {
   "cell_type": "code",
   "execution_count": null,
   "metadata": {},
   "outputs": [],
   "source": []
  }
 ],
 "metadata": {
  "kernelspec": {
   "display_name": "Python 3",
   "language": "python",
   "name": "python3"
  },
  "language_info": {
   "codemirror_mode": {
    "name": "ipython",
    "version": 3
   },
   "file_extension": ".py",
   "mimetype": "text/x-python",
   "name": "python",
   "nbconvert_exporter": "python",
   "pygments_lexer": "ipython3",
   "version": "3.5.5"
  }
 },
 "nbformat": 4,
 "nbformat_minor": 2
}

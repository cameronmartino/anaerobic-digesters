{
 "cells": [
  {
   "cell_type": "code",
   "execution_count": 1,
   "metadata": {
    "collapsed": true,
    "deletable": true,
    "editable": true
   },
   "outputs": [],
   "source": [
    "%matplotlib inline\n",
    "\n",
    "from biom.util import biom_open\n",
    "from biom import load_table\n",
    "\n",
    "import pandas as pd, numpy as np, matplotlib.pyplot as plt, seaborn as sns\n",
    "\n",
    "sns.set_style('whitegrid')\n",
    "\n",
    "def load_mf(fn, index='#SampleID'):\n",
    "    _df = pd.read_csv(fn, sep='\\t', keep_default_na=False, na_values=[], dtype=str)\n",
    "    _df.set_index(index, inplace=True) \n",
    "    return _df"
   ]
  },
  {
   "cell_type": "code",
   "execution_count": 2,
   "metadata": {
    "collapsed": true,
    "deletable": true,
    "editable": true
   },
   "outputs": [],
   "source": [
    "mf = load_mf('original-metadata.txt')\n",
    "\n",
    "index = mf.index.copy()\n",
    "mf.set_index(pd.Index([i.replace('-', '.').lower() for i in index], name='#SampleID'), inplace=True)"
   ]
  },
  {
   "cell_type": "markdown",
   "metadata": {
    "deletable": true,
    "editable": true
   },
   "source": [
    "We don't explicily have any information for sample d0, and since aour sequences were already demultiplexed we'll copy an existing barcode and primer."
   ]
  },
  {
   "cell_type": "code",
   "execution_count": 3,
   "metadata": {
    "collapsed": true,
    "deletable": true,
    "editable": true,
    "scrolled": false
   },
   "outputs": [],
   "source": [
    "mf = mf.append(pd.Series(['AGCACGAGCCTA', 'YATGCTGCCTCCCGTAGGAGT', 'Sample before spike',\n",
    "                          '', '', '', '', '', '', '', '', '', '', 'Wednesday', '0', 'Chris'],\n",
    "                          index=mf.columns, name='d0'))"
   ]
  },
  {
   "cell_type": "markdown",
   "metadata": {
    "deletable": true,
    "editable": true
   },
   "source": [
    "Comply with the INSDC requirements for missing data"
   ]
  },
  {
   "cell_type": "code",
   "execution_count": 4,
   "metadata": {
    "collapsed": true,
    "deletable": true,
    "editable": true
   },
   "outputs": [],
   "source": [
    "mf.replace({'': 'Missing: Not collected'}, inplace=True)"
   ]
  },
  {
   "cell_type": "markdown",
   "metadata": {
    "deletable": true,
    "editable": true
   },
   "source": [
    "The `host_subject_id` category is really the `Description` category, so rename that column."
   ]
  },
  {
   "cell_type": "code",
   "execution_count": 5,
   "metadata": {
    "collapsed": true,
    "deletable": true,
    "editable": true
   },
   "outputs": [],
   "source": [
    "mf.columns = ['host_subject_id' if c == 'Description' else c for c in mf.columns]\n",
    "mf.columns = ['barcode' if c == 'BarcodeSequence' else c for c in mf.columns]\n",
    "mf.columns = ['primer' if c == 'LinkerPrimerSequence' else c for c in mf.columns]\n",
    "mf.columns = ['Volatile_Fatty_Acids' if c == 'Volatile Fatty Acids' else c for c in mf.columns]\n",
    "\n",
    "mf['description'] = mf['host_subject_id'].copy()"
   ]
  },
  {
   "cell_type": "markdown",
   "metadata": {
    "deletable": true,
    "editable": true
   },
   "source": [
    "We cannot have slashes in the column names so we need to replace `TSS/VSS` for something else."
   ]
  },
  {
   "cell_type": "code",
   "execution_count": 6,
   "metadata": {
    "collapsed": true,
    "deletable": true,
    "editable": true
   },
   "outputs": [],
   "source": [
    "mf.columns = ['TSS_VSS' if c == 'TSS/VSS' else c for c in mf.columns]"
   ]
  },
  {
   "cell_type": "markdown",
   "metadata": {
    "deletable": true,
    "editable": true
   },
   "source": [
    "Latitude and longitude of the biodynamics lab at UCSD."
   ]
  },
  {
   "cell_type": "code",
   "execution_count": 7,
   "metadata": {
    "collapsed": true,
    "deletable": true,
    "editable": true
   },
   "outputs": [],
   "source": [
    "mf['latitutde'] = '32.875245'\n",
    "mf['longitude'] = '-117.240135'"
   ]
  },
  {
   "cell_type": "markdown",
   "metadata": {
    "deletable": true,
    "editable": true
   },
   "source": [
    "Columns and values extracted from a different study (type waste water in the Qiita's search box)"
   ]
  },
  {
   "cell_type": "code",
   "execution_count": 8,
   "metadata": {
    "collapsed": true,
    "deletable": true,
    "editable": true
   },
   "outputs": [],
   "source": [
    "mf['dna_extracted'] = 'TRUE'\n",
    "mf['physical_specimen_remaining'] = 'TRUE'\n",
    "mf['sample_type'] = 'waste water'\n",
    "mf['country'] = 'GAZ:United States of America'\n",
    "mf['env_biome'] = 'ENVO:urban biome'"
   ]
  },
  {
   "cell_type": "markdown",
   "metadata": {
    "deletable": true,
    "editable": true
   },
   "source": [
    "Set a decent description for what d0.spike is:"
   ]
  },
  {
   "cell_type": "code",
   "execution_count": 9,
   "metadata": {
    "collapsed": true,
    "deletable": true,
    "editable": true
   },
   "outputs": [],
   "source": [
    "mf = mf.set_value('d0.spike', 'description',\n",
    "                  'Water sample before it was placed in any of the digesters '\n",
    "                  'and after it had been spiked with a known concentration of'\n",
    "                  ' Acinetobacter baylyi and Acinetobacter calcoaceticus')\n",
    "\n",
    "mf = mf.set_value('d0', 'description',\n",
    "                  'Water sample before it was placed in any of the digesters')"
   ]
  },
  {
   "cell_type": "markdown",
   "metadata": {
    "deletable": true,
    "editable": true
   },
   "source": [
    "This is a bit messy, we are only going to keep smples that were *resequenced*, if they were not resequenced then we use the normal samples"
   ]
  },
  {
   "cell_type": "code",
   "execution_count": 10,
   "metadata": {
    "collapsed": true,
    "deletable": true,
    "editable": true
   },
   "outputs": [],
   "source": [
    "names = set([])\n",
    "with open('forward-read-files.txt', 'r') as f:\n",
    "    for f in f.read().split():\n",
    "        names.add(f)"
   ]
  },
  {
   "cell_type": "code",
   "execution_count": 11,
   "metadata": {
    "collapsed": true,
    "deletable": true,
    "editable": true
   },
   "outputs": [],
   "source": [
    "def run_prefix(row, names_set=None):\n",
    "    # this sample has a naming scheme that breaks the\n",
    "    # rules below i.e. spike is written as Spike\n",
    "    if 'spike' in row.name:\n",
    "        return 'D0-Spike-Re_S9_L001_R1_001'\n",
    "    if 'd0' == row.name:\n",
    "        return 'D0_S15_L001_R1_001'\n",
    "\n",
    "    name = row.name.replace('.', '-').upper()\n",
    "    matches = [i for i in names_set if i.startswith(name + '_') or i.startswith(name + '-')]\n",
    "    \n",
    "    # after sorting the filenames, the first element should\n",
    "    # be the resequenced file, or alternatively should be\n",
    "    # the only existing file (because there would only be\n",
    "    # one match)\n",
    "    return sorted(matches)[0].replace('.fastq.gz','')"
   ]
  },
  {
   "cell_type": "code",
   "execution_count": 12,
   "metadata": {
    "collapsed": true,
    "deletable": true,
    "editable": true
   },
   "outputs": [],
   "source": [
    "mf['run_prefix'] = mf.apply(run_prefix, axis=1, reduce=False, names_set=names)"
   ]
  },
  {
   "cell_type": "markdown",
   "metadata": {
    "deletable": true,
    "editable": true
   },
   "source": [
    "We need to add a few extra prep information columns"
   ]
  },
  {
   "cell_type": "code",
   "execution_count": 13,
   "metadata": {
    "collapsed": true,
    "deletable": true,
    "editable": true
   },
   "outputs": [],
   "source": [
    "mf['center_name'] = 'UCSDMI'\n",
    "mf['platform'] = 'Illumina'\n",
    "mf['instrument_model'] = 'Illumina MiSeq'\n",
    "mf['experiment_design_description'] = 'Longitudinal study of four anaerobic digesters'\n",
    "mf['library_construction_protocol'] = '16S'"
   ]
  },
  {
   "cell_type": "markdown",
   "metadata": {
    "deletable": true,
    "editable": true
   },
   "source": [
    "# Splitting the columns into sample and preparation specific"
   ]
  },
  {
   "cell_type": "code",
   "execution_count": 14,
   "metadata": {
    "collapsed": true,
    "deletable": true,
    "editable": true
   },
   "outputs": [],
   "source": [
    "prep = {'barcode', 'primer', 'center_name', 'platform', 'instrument_model', 'library_construction_protocol',\n",
    "        'experiment_design_description', 'run_prefix'}\n",
    "\n",
    "sample = set(mf.columns) - prep"
   ]
  },
  {
   "cell_type": "code",
   "execution_count": 15,
   "metadata": {
    "collapsed": true,
    "deletable": true,
    "editable": true
   },
   "outputs": [],
   "source": [
    "mf.index.name = 'sample_name'"
   ]
  },
  {
   "cell_type": "code",
   "execution_count": 16,
   "metadata": {
    "collapsed": true,
    "deletable": true,
    "editable": true
   },
   "outputs": [],
   "source": [
    "prep_file = mf[list(prep)]\n",
    "sample_file = mf[list(sample)]"
   ]
  },
  {
   "cell_type": "code",
   "execution_count": 17,
   "metadata": {
    "collapsed": true,
    "deletable": true,
    "editable": true
   },
   "outputs": [],
   "source": [
    "mkdir -p qiita-files"
   ]
  },
  {
   "cell_type": "code",
   "execution_count": 18,
   "metadata": {
    "collapsed": true,
    "deletable": true,
    "editable": true
   },
   "outputs": [],
   "source": [
    "prep_file.to_csv('qiita-files/prep-information.tsv', sep='\\t')"
   ]
  },
  {
   "cell_type": "code",
   "execution_count": 19,
   "metadata": {
    "collapsed": true,
    "deletable": true,
    "editable": true
   },
   "outputs": [],
   "source": [
    "sample_file.to_csv('qiita-files/sample-information.tsv', sep='\\t')"
   ]
  },
  {
   "cell_type": "markdown",
   "metadata": {
    "deletable": true,
    "editable": true
   },
   "source": [
    "# Description of some metadata variables\n",
    "\n",
    "- COD: chemical oxygen demand.\n",
    "\n",
    "- PhosphorousR: reactive or inorganic phosphorus.\n",
    "\n",
    "- PhosphorusT: total phosporus (including organic forms).\n",
    "\n",
    "- AmoniaN: Amonia Nitrogen.\n",
    "\n",
    "- NitrateN: Nitrate Nitrogen.\n",
    "\n",
    "- NitrogenT: Total nitrogen, includes organic forms.\n",
    "\n",
    "- VFA: volatile fatty acids.\n",
    "\n",
    "- TSS: total suspended solids.\n",
    "\n",
    "- VSS: volatile suspended solids."
   ]
  },
  {
   "cell_type": "markdown",
   "metadata": {
    "collapsed": true,
    "deletable": true,
    "editable": true
   },
   "source": [
    "# Creating Manifest file for QIIME2\n",
    "\n",
    "See documentation [here](https://docs.qiime2.org/2017.8/tutorials/importing/#id7), we assume that the offset is 33."
   ]
  },
  {
   "cell_type": "code",
   "execution_count": 32,
   "metadata": {
    "collapsed": true,
    "deletable": true,
    "editable": true
   },
   "outputs": [],
   "source": [
    "manifest = prep_file[['run_prefix', 'platform']].copy()\n",
    "\n",
    "manifest['platform'] = 'forward'\n",
    "manifest.columns = ['absolute-filepath', 'direction']\n",
    "\n",
    "manifest['absolute-filepath'] = ('/home/yovazquezbaeza/research/wastewater/RawData/'\n",
    "                                 + manifest['absolute-filepath']\n",
    "                                 + '.fastq.gz')\n",
    "\n",
    "manifest.index = '11282.' + manifest.index\n",
    "manifest.index.name = 'sample-id'\n",
    "manifest.to_csv('MANIFEST')"
   ]
  },
  {
   "cell_type": "code",
   "execution_count": null,
   "metadata": {
    "collapsed": true,
    "deletable": true,
    "editable": true
   },
   "outputs": [],
   "source": []
  }
 ],
 "metadata": {
  "kernelspec": {
   "display_name": "Python 3",
   "language": "python",
   "name": "python3"
  },
  "language_info": {
   "codemirror_mode": {
    "name": "ipython",
    "version": 3
   },
   "file_extension": ".py",
   "mimetype": "text/x-python",
   "name": "python",
   "nbconvert_exporter": "python",
   "pygments_lexer": "ipython3",
   "version": "3.5.1"
  },
  "widgets": {
   "state": {},
   "version": "1.1.2"
  }
 },
 "nbformat": 4,
 "nbformat_minor": 2
}

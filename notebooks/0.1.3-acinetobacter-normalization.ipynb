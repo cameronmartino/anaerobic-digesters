{
 "cells": [
  {
   "cell_type": "code",
   "execution_count": 1,
   "metadata": {},
   "outputs": [],
   "source": [
    "%matplotlib inline\n",
    "import qiime2 as q2\n",
    "\n",
    "from biom import Table\n",
    "\n",
    "import pandas as pd, numpy as np, seaborn as sns\n",
    "import qiime2.plugins.taxa as taxa\n",
    "import qiime2.plugins.feature_table as FT"
   ]
  },
  {
   "cell_type": "code",
   "execution_count": 2,
   "metadata": {},
   "outputs": [
    {
     "name": "stdout",
     "output_type": "stream",
     "text": [
      "/Users/yoshikivazquezbaeza/Documents/PDF/KnightLaboratory/HastyWater/trimmed-150nts\n"
     ]
    }
   ],
   "source": [
    "cd trimmed-150nts/"
   ]
  },
  {
   "cell_type": "code",
   "execution_count": 3,
   "metadata": {},
   "outputs": [],
   "source": [
    "mf = q2.Metadata.load('mapping-file.alpha.tsv').to_dataframe()\n",
    "table = q2.Artifact.load('table-deblur.qza').view(pd.DataFrame)"
   ]
  },
  {
   "cell_type": "code",
   "execution_count": 4,
   "metadata": {},
   "outputs": [],
   "source": [
    "normalization = q2.Artifact.load('feature-table.acinetos.normalization-features.qza').view(pd.DataFrame)\n",
    "discardable = q2.Artifact.load('feature-table.acinetos.discardable-features.qza').view(pd.DataFrame)"
   ]
  },
  {
   "cell_type": "markdown",
   "metadata": {},
   "source": [
    "Filter the table to only include the normalization features, make sure to remove the discardable features."
   ]
  },
  {
   "cell_type": "code",
   "execution_count": 5,
   "metadata": {},
   "outputs": [],
   "source": [
    "table['spike-collapsed'] = normalization.sum(axis=1)\n",
    "table.drop(discardable.columns, axis=1, inplace=True)\n",
    "table.drop(normalization.columns, axis=1, inplace=True)"
   ]
  },
  {
   "cell_type": "code",
   "execution_count": 6,
   "metadata": {},
   "outputs": [],
   "source": [
    "def normalize_by_sequence(row, reference=None):\n",
    "    ref = row[reference].sum()\n",
    "    return ((row * 10000) / ref).astype(np.int)\n",
    "\n",
    "norm = table.apply(normalize_by_sequence, axis=1, reference='spike-collapsed')"
   ]
  },
  {
   "cell_type": "markdown",
   "metadata": {},
   "source": [
    "After the normalization, the reference sequence is uniform through all the samples, hence we should see 10,000 return from the following operation."
   ]
  },
  {
   "cell_type": "code",
   "execution_count": 7,
   "metadata": {},
   "outputs": [
    {
     "data": {
      "text/plain": [
       "10000.0"
      ]
     },
     "execution_count": 7,
     "metadata": {},
     "output_type": "execute_result"
    }
   ],
   "source": [
    "norm['spike-collapsed'].sum() / len(norm)"
   ]
  },
  {
   "cell_type": "markdown",
   "metadata": {},
   "source": [
    "Remove the spike altogether."
   ]
  },
  {
   "cell_type": "code",
   "execution_count": 8,
   "metadata": {},
   "outputs": [],
   "source": [
    "norm.drop(['spike-collapsed'], axis=1, inplace=True)"
   ]
  },
  {
   "cell_type": "markdown",
   "metadata": {},
   "source": [
    "Save as a new artifact and rarefy the table."
   ]
  },
  {
   "cell_type": "code",
   "execution_count": 9,
   "metadata": {},
   "outputs": [],
   "source": [
    "normalized_feature_table = q2.Artifact.import_data('FeatureTable[Frequency]', norm)"
   ]
  },
  {
   "cell_type": "code",
   "execution_count": 10,
   "metadata": {},
   "outputs": [
    {
     "data": {
      "text/plain": [
       "'feature-table.normalized.qza'"
      ]
     },
     "execution_count": 10,
     "metadata": {},
     "output_type": "execute_result"
    }
   ],
   "source": [
    "normalized_feature_table.save('feature-table.normalized.qza')"
   ]
  },
  {
   "cell_type": "code",
   "execution_count": 11,
   "metadata": {},
   "outputs": [
    {
     "data": {
      "text/plain": [
       "11282.d0          25806886.0\n",
       "11282.d1.2          106908.0\n",
       "11282.d0.spike       98998.0\n",
       "11282.d1.1           86985.0\n",
       "11282.d1.3           78540.0\n",
       "11282.d2.5           69746.0\n",
       "11282.d4.6           67380.0\n",
       "11282.d3.6           64047.0\n",
       "11282.d1.6           61873.0\n",
       "11282.d1.8           58792.0\n",
       "11282.d4.2           58435.0\n",
       "11282.d2.8           58289.0\n",
       "11282.d4.8           56487.0\n",
       "11282.d2.9           56436.0\n",
       "11282.d2.6           55528.0\n",
       "11282.d3.8           53972.0\n",
       "11282.d4.3           53510.0\n",
       "11282.d1.9           52338.0\n",
       "11282.d3.5           50527.0\n",
       "11282.d3.1           50346.0\n",
       "11282.d2.1           50313.0\n",
       "11282.d1.5           50141.0\n",
       "11282.d3.9           49549.0\n",
       "11282.d3.2           49069.0\n",
       "11282.d1.7           48721.0\n",
       "11282.d4.9           48565.0\n",
       "11282.d2.18          47863.0\n",
       "11282.d2.27          46846.0\n",
       "11282.d2.13          46594.0\n",
       "11282.d3.3           46474.0\n",
       "                     ...    \n",
       "11282.d2.26          31781.0\n",
       "11282.d2.14          31720.0\n",
       "11282.d3.12          31623.0\n",
       "11282.d3.21          31325.0\n",
       "11282.d1.27          30975.0\n",
       "11282.d3.16          30939.0\n",
       "11282.d3.14          30929.0\n",
       "11282.d2.19          30568.0\n",
       "11282.d2.16          30350.0\n",
       "11282.d1.15          30259.0\n",
       "11282.d1.14          29841.0\n",
       "11282.d3.17          29725.0\n",
       "11282.d3.26          29634.0\n",
       "11282.d4.12          29091.0\n",
       "11282.d3.10          28967.0\n",
       "11282.d1.16          28188.0\n",
       "11282.d2.10          27879.0\n",
       "11282.d2.21          27790.0\n",
       "11282.d3.23          27786.0\n",
       "11282.d1.28          27425.0\n",
       "11282.d4.19          27349.0\n",
       "11282.d1.19          26461.0\n",
       "11282.d2.17          26306.0\n",
       "11282.d2.23          25777.0\n",
       "11282.d1.21          23529.0\n",
       "11282.d1.22          23288.0\n",
       "11282.d2.28          22096.0\n",
       "11282.d1.17          20916.0\n",
       "11282.d4.5           19654.0\n",
       "11282.d3.19          18813.0\n",
       "Length: 118, dtype: float64"
      ]
     },
     "execution_count": 11,
     "metadata": {},
     "output_type": "execute_result"
    }
   ],
   "source": [
    "normalized_feature_table.view(pd.DataFrame).sum(axis=1).sort_values(ascending=False)"
   ]
  },
  {
   "cell_type": "code",
   "execution_count": 12,
   "metadata": {},
   "outputs": [],
   "source": [
    "res = FT.methods.rarefy(normalized_feature_table, 18813)"
   ]
  },
  {
   "cell_type": "code",
   "execution_count": 13,
   "metadata": {},
   "outputs": [
    {
     "data": {
      "text/plain": [
       "'feature-table.even.18813.normalized.qza'"
      ]
     },
     "execution_count": 13,
     "metadata": {},
     "output_type": "execute_result"
    }
   ],
   "source": [
    "res.rarefied_table.save('feature-table.even.18813.normalized.qza')"
   ]
  }
 ],
 "metadata": {
  "kernelspec": {
   "display_name": "Python 3",
   "language": "python",
   "name": "python3"
  },
  "language_info": {
   "codemirror_mode": {
    "name": "ipython",
    "version": 3
   },
   "file_extension": ".py",
   "mimetype": "text/x-python",
   "name": "python",
   "nbconvert_exporter": "python",
   "pygments_lexer": "ipython3",
   "version": "3.5.5"
  }
 },
 "nbformat": 4,
 "nbformat_minor": 2
}

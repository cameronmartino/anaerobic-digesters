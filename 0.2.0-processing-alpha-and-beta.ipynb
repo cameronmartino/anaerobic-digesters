{
 "cells": [
  {
   "cell_type": "markdown",
   "metadata": {},
   "source": [
    "# Important: This notebook processes the data with 150nts only!"
   ]
  },
  {
   "cell_type": "code",
   "execution_count": 1,
   "metadata": {},
   "outputs": [
    {
     "name": "stdout",
     "output_type": "stream",
     "text": [
      "/Users/yoshikivazquezbaeza/Documents/PDF/KnightLaboratory/HastyWater/trimmed-150nts\n"
     ]
    }
   ],
   "source": [
    "cd trimmed-150nts/"
   ]
  },
  {
   "cell_type": "code",
   "execution_count": 2,
   "metadata": {},
   "outputs": [],
   "source": [
    "%matplotlib inline\n",
    "import pandas as pd, numpy as np, seaborn as sns, matplotlib.pyplot as plt, qiime2 as q2"
   ]
  },
  {
   "cell_type": "code",
   "execution_count": 3,
   "metadata": {},
   "outputs": [],
   "source": [
    "from biom import load_table, Table\n",
    "from biom.util import biom_open\n",
    "from skbio import TreeNode\n",
    "\n",
    "from qiime2.plugins import diversity, feature_table, metadata, taxa, emperor, diversity\n",
    "\n",
    "def load_mf(fn, index='#SampleID'):\n",
    "    _df = pd.read_csv(fn, sep='\\t', dtype=str, keep_default_na=False, na_values=[])\n",
    "    _df.set_index(index, inplace=True)\n",
    "    return _df"
   ]
  },
  {
   "cell_type": "markdown",
   "metadata": {},
   "source": [
    "The tables that we'll deal with are the ones normalized for acinetobacter, see the previous notebooks for details about this."
   ]
  },
  {
   "cell_type": "markdown",
   "metadata": {},
   "source": [
    "The phylogenetic tree and taxonomic assignments are generated from the representative sequences. Note those processing steps are not shown here as they were executed in our local compute cluster. They can be found in `/home/yovazquezbaeza/research/hasty-water/trimmed-150nts/`.\n",
    "\n",
    "The commands executed were (roughly):\n",
    "\n",
    "```bash\n",
    "qiime deblur denoise-16S --i-demultiplexed-seqs single-end-demux.filtered.qza --p-trim-length 150 --o-representative-sequences rep-seqs-deblur.qza --o-table table-deblur.qza --o-stats deblur-stats.qza\n",
    "\n",
    "# assign taxonomy greengenes\n",
    "qiime feature-classifier classify-sklearn --i-classifier gg-13-8-99-nb-classifier.qza --i-reads rep-sequences.qza --o-classification taxonomy.greengenes.qza --p-n-jobs 4\n",
    "\n",
    "qiime metadata tabulate --m-input-file taxonomy.greengenes.qza --o-visualization taxonomy.greengenes.qzv\n",
    "```\n",
    "\n",
    "I also created a fragment-inserted phylogenetic tree based on SEPP and these fragments (?????):\n",
    "\n",
    "```bash\n",
    "qiime fragment-insertion sepp-16s-greengenes --i-representative-sequences rep-seqs-deblur.qza --o-tree sepp-tree.rooted.qza --o-placements sepp-placements.qza --p-threads 31\n",
    "```"
   ]
  },
  {
   "cell_type": "markdown",
   "metadata": {},
   "source": [
    "# Alpha diversity"
   ]
  },
  {
   "cell_type": "code",
   "execution_count": 4,
   "metadata": {},
   "outputs": [],
   "source": [
    "table = q2.Artifact.load('feature-table.even.18813.normalized.qza')\n",
    "tree = q2.Artifact.load('insertion-tree.qza')"
   ]
  },
  {
   "cell_type": "code",
   "execution_count": 5,
   "metadata": {},
   "outputs": [],
   "source": [
    "diversity.methods.alpha_phylogenetic(table, tree, 'faith_pd').alpha_diversity.save('faith_pd.qza')\n",
    "\n",
    "for metric in ['observed_otus', 'shannon']:\n",
    "    diversity.methods\\\n",
    "    .alpha(table, metric)\\\n",
    "    .alpha_diversity\\\n",
    "    .save('%s.qza' % metric)"
   ]
  },
  {
   "cell_type": "markdown",
   "metadata": {},
   "source": [
    "Add the alpha diversity information to the mapping file."
   ]
  },
  {
   "cell_type": "code",
   "execution_count": 6,
   "metadata": {},
   "outputs": [],
   "source": [
    "mf = q2.Metadata.load('../mapping-file.tsv').to_dataframe()"
   ]
  },
  {
   "cell_type": "code",
   "execution_count": 7,
   "metadata": {},
   "outputs": [],
   "source": [
    "for metric in ['observed_otus', 'shannon', 'faith_pd']:\n",
    "    mf[metric] = q2.Artifact.load(metric + '.qza').view(pd.Series)\n",
    "\n",
    "mf.to_csv('mapping-file.alpha.tsv', sep='\\t')"
   ]
  },
  {
   "cell_type": "markdown",
   "metadata": {},
   "source": [
    "Create taxonomic bar charts"
   ]
  },
  {
   "cell_type": "code",
   "execution_count": 8,
   "metadata": {},
   "outputs": [],
   "source": [
    "taxonomy = q2.Artifact.load('taxonomy.qza')"
   ]
  },
  {
   "cell_type": "code",
   "execution_count": 9,
   "metadata": {},
   "outputs": [
    {
     "data": {
      "text/plain": [
       "'taxonomy.barplot.qzv'"
      ]
     },
     "execution_count": 9,
     "metadata": {},
     "output_type": "execute_result"
    }
   ],
   "source": [
    "taxa.visualizers.barplot(table,\n",
    "                         taxonomy,\n",
    "                         q2.Metadata(mf)).visualization.save('taxonomy.barplot.qzv')"
   ]
  },
  {
   "cell_type": "markdown",
   "metadata": {},
   "source": [
    "Beta diversity"
   ]
  },
  {
   "cell_type": "code",
   "execution_count": 10,
   "metadata": {},
   "outputs": [
    {
     "data": {
      "text/plain": [
       "'unweighted.unifrac.dm.qza'"
      ]
     },
     "execution_count": 10,
     "metadata": {},
     "output_type": "execute_result"
    }
   ],
   "source": [
    "diversity.methods.beta_phylogenetic_alt(table=table,\n",
    "                                        phylogeny=tree,\n",
    "                                        metric='unweighted_unifrac',\n",
    "                                        n_jobs=2)\\\n",
    ".distance_matrix.save('unweighted.unifrac.dm.qza')"
   ]
  },
  {
   "cell_type": "code",
   "execution_count": 11,
   "metadata": {},
   "outputs": [
    {
     "data": {
      "text/plain": [
       "'weighted.unifrac.dm.qza'"
      ]
     },
     "execution_count": 11,
     "metadata": {},
     "output_type": "execute_result"
    }
   ],
   "source": [
    "diversity.methods.beta_phylogenetic_alt(table=table,\n",
    "                                        phylogeny=tree,\n",
    "                                        metric='weighted_unifrac',\n",
    "                                        n_jobs=2)\\\n",
    ".distance_matrix.save('weighted.unifrac.dm.qza')"
   ]
  },
  {
   "cell_type": "code",
   "execution_count": 12,
   "metadata": {},
   "outputs": [
    {
     "name": "stderr",
     "output_type": "stream",
     "text": [
      "/Users/yoshikivazquezbaeza/git_sw/scikit-bio/skbio/stats/ordination/_principal_coordinate_analysis.py:114: RuntimeWarning: The result contains negative eigenvalues. Please compare their magnitude with the magnitude of some of the largest positive eigenvalues. If the negative ones are smaller, it's probably safe to ignore them, but if they are large in magnitude, the results won't be useful. See the Notes section for more details. The smallest eigenvalue is -0.02957537690504521 and the largest is 5.5273874406739525.\n",
      "  RuntimeWarning\n"
     ]
    },
    {
     "data": {
      "text/plain": [
       "'weighted.unifrac.pcoa.qza'"
      ]
     },
     "execution_count": 12,
     "metadata": {},
     "output_type": "execute_result"
    }
   ],
   "source": [
    "diversity.methods.pcoa(q2.Artifact.load('unweighted.unifrac.dm.qza')).pcoa.save('unweighted.unifrac.pcoa.qza')\n",
    "diversity.methods.pcoa(q2.Artifact.load('weighted.unifrac.dm.qza')).pcoa.save('weighted.unifrac.pcoa.qza')"
   ]
  },
  {
   "cell_type": "code",
   "execution_count": 13,
   "metadata": {},
   "outputs": [
    {
     "data": {
      "text/plain": [
       "'weighted.unifrac.plot.qzv'"
      ]
     },
     "execution_count": 13,
     "metadata": {},
     "output_type": "execute_result"
    }
   ],
   "source": [
    "emperor.visualizers.plot(q2.Artifact.load('unweighted.unifrac.pcoa.qza'),\n",
    "                         q2.Metadata.load('mapping-file.alpha.tsv')).visualization.save('unweighted.unifrac.plot.qzv')\n",
    "\n",
    "emperor.visualizers.plot(q2.Artifact.load('weighted.unifrac.pcoa.qza'),\n",
    "                         q2.Metadata.load('mapping-file.alpha.tsv')).visualization.save('weighted.unifrac.plot.qzv')"
   ]
  }
 ],
 "metadata": {
  "kernelspec": {
   "display_name": "Python 3",
   "language": "python",
   "name": "python3"
  },
  "language_info": {
   "codemirror_mode": {
    "name": "ipython",
    "version": 3
   },
   "file_extension": ".py",
   "mimetype": "text/x-python",
   "name": "python",
   "nbconvert_exporter": "python",
   "pygments_lexer": "ipython3",
   "version": "3.5.5"
  }
 },
 "nbformat": 4,
 "nbformat_minor": 2
}
